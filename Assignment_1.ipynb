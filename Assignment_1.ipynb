{
  "nbformat": 4,
  "nbformat_minor": 0,
  "metadata": {
    "colab": {
      "provenance": []
    },
    "kernelspec": {
      "name": "python3",
      "display_name": "Python 3"
    },
    "language_info": {
      "name": "python"
    }
  },
  "cells": [
    {
      "cell_type": "markdown",
      "source": [
        "# Importing Libraries"
      ],
      "metadata": {
        "id": "gxWl--hZPkbP"
      }
    },
    {
      "cell_type": "code",
      "execution_count": null,
      "metadata": {
        "id": "MwmU3C7BMRaP"
      },
      "outputs": [],
      "source": [
        "import numpy as np\n",
        "import pandas as pd\n",
        "import torch\n",
        "import torch.nn as nn\n",
        "import torch.optim as optim"
      ]
    },
    {
      "cell_type": "markdown",
      "source": [
        "# Splitting into Features and Target"
      ],
      "metadata": {
        "id": "9zdFmJiNVSoy"
      }
    },
    {
      "cell_type": "code",
      "source": [
        "from sklearn.datasets import load_iris\n",
        "dataset = load_iris()\n",
        "\n",
        "X = dataset.data\n",
        "y = dataset.target"
      ],
      "metadata": {
        "id": "o2jze-VkPT41"
      },
      "execution_count": null,
      "outputs": []
    },
    {
      "cell_type": "code",
      "source": [
        "print(X)"
      ],
      "metadata": {
        "colab": {
          "base_uri": "https://localhost:8080/"
        },
        "id": "iWFbJSGmRlIJ",
        "outputId": "d6264655-042d-4389-8cbb-660dc8434755"
      },
      "execution_count": null,
      "outputs": [
        {
          "output_type": "stream",
          "name": "stdout",
          "text": [
            "[[5.1 3.5 1.4 0.2]\n",
            " [4.9 3.  1.4 0.2]\n",
            " [4.7 3.2 1.3 0.2]\n",
            " [4.6 3.1 1.5 0.2]\n",
            " [5.  3.6 1.4 0.2]\n",
            " [5.4 3.9 1.7 0.4]\n",
            " [4.6 3.4 1.4 0.3]\n",
            " [5.  3.4 1.5 0.2]\n",
            " [4.4 2.9 1.4 0.2]\n",
            " [4.9 3.1 1.5 0.1]\n",
            " [5.4 3.7 1.5 0.2]\n",
            " [4.8 3.4 1.6 0.2]\n",
            " [4.8 3.  1.4 0.1]\n",
            " [4.3 3.  1.1 0.1]\n",
            " [5.8 4.  1.2 0.2]\n",
            " [5.7 4.4 1.5 0.4]\n",
            " [5.4 3.9 1.3 0.4]\n",
            " [5.1 3.5 1.4 0.3]\n",
            " [5.7 3.8 1.7 0.3]\n",
            " [5.1 3.8 1.5 0.3]\n",
            " [5.4 3.4 1.7 0.2]\n",
            " [5.1 3.7 1.5 0.4]\n",
            " [4.6 3.6 1.  0.2]\n",
            " [5.1 3.3 1.7 0.5]\n",
            " [4.8 3.4 1.9 0.2]\n",
            " [5.  3.  1.6 0.2]\n",
            " [5.  3.4 1.6 0.4]\n",
            " [5.2 3.5 1.5 0.2]\n",
            " [5.2 3.4 1.4 0.2]\n",
            " [4.7 3.2 1.6 0.2]\n",
            " [4.8 3.1 1.6 0.2]\n",
            " [5.4 3.4 1.5 0.4]\n",
            " [5.2 4.1 1.5 0.1]\n",
            " [5.5 4.2 1.4 0.2]\n",
            " [4.9 3.1 1.5 0.2]\n",
            " [5.  3.2 1.2 0.2]\n",
            " [5.5 3.5 1.3 0.2]\n",
            " [4.9 3.6 1.4 0.1]\n",
            " [4.4 3.  1.3 0.2]\n",
            " [5.1 3.4 1.5 0.2]\n",
            " [5.  3.5 1.3 0.3]\n",
            " [4.5 2.3 1.3 0.3]\n",
            " [4.4 3.2 1.3 0.2]\n",
            " [5.  3.5 1.6 0.6]\n",
            " [5.1 3.8 1.9 0.4]\n",
            " [4.8 3.  1.4 0.3]\n",
            " [5.1 3.8 1.6 0.2]\n",
            " [4.6 3.2 1.4 0.2]\n",
            " [5.3 3.7 1.5 0.2]\n",
            " [5.  3.3 1.4 0.2]\n",
            " [7.  3.2 4.7 1.4]\n",
            " [6.4 3.2 4.5 1.5]\n",
            " [6.9 3.1 4.9 1.5]\n",
            " [5.5 2.3 4.  1.3]\n",
            " [6.5 2.8 4.6 1.5]\n",
            " [5.7 2.8 4.5 1.3]\n",
            " [6.3 3.3 4.7 1.6]\n",
            " [4.9 2.4 3.3 1. ]\n",
            " [6.6 2.9 4.6 1.3]\n",
            " [5.2 2.7 3.9 1.4]\n",
            " [5.  2.  3.5 1. ]\n",
            " [5.9 3.  4.2 1.5]\n",
            " [6.  2.2 4.  1. ]\n",
            " [6.1 2.9 4.7 1.4]\n",
            " [5.6 2.9 3.6 1.3]\n",
            " [6.7 3.1 4.4 1.4]\n",
            " [5.6 3.  4.5 1.5]\n",
            " [5.8 2.7 4.1 1. ]\n",
            " [6.2 2.2 4.5 1.5]\n",
            " [5.6 2.5 3.9 1.1]\n",
            " [5.9 3.2 4.8 1.8]\n",
            " [6.1 2.8 4.  1.3]\n",
            " [6.3 2.5 4.9 1.5]\n",
            " [6.1 2.8 4.7 1.2]\n",
            " [6.4 2.9 4.3 1.3]\n",
            " [6.6 3.  4.4 1.4]\n",
            " [6.8 2.8 4.8 1.4]\n",
            " [6.7 3.  5.  1.7]\n",
            " [6.  2.9 4.5 1.5]\n",
            " [5.7 2.6 3.5 1. ]\n",
            " [5.5 2.4 3.8 1.1]\n",
            " [5.5 2.4 3.7 1. ]\n",
            " [5.8 2.7 3.9 1.2]\n",
            " [6.  2.7 5.1 1.6]\n",
            " [5.4 3.  4.5 1.5]\n",
            " [6.  3.4 4.5 1.6]\n",
            " [6.7 3.1 4.7 1.5]\n",
            " [6.3 2.3 4.4 1.3]\n",
            " [5.6 3.  4.1 1.3]\n",
            " [5.5 2.5 4.  1.3]\n",
            " [5.5 2.6 4.4 1.2]\n",
            " [6.1 3.  4.6 1.4]\n",
            " [5.8 2.6 4.  1.2]\n",
            " [5.  2.3 3.3 1. ]\n",
            " [5.6 2.7 4.2 1.3]\n",
            " [5.7 3.  4.2 1.2]\n",
            " [5.7 2.9 4.2 1.3]\n",
            " [6.2 2.9 4.3 1.3]\n",
            " [5.1 2.5 3.  1.1]\n",
            " [5.7 2.8 4.1 1.3]\n",
            " [6.3 3.3 6.  2.5]\n",
            " [5.8 2.7 5.1 1.9]\n",
            " [7.1 3.  5.9 2.1]\n",
            " [6.3 2.9 5.6 1.8]\n",
            " [6.5 3.  5.8 2.2]\n",
            " [7.6 3.  6.6 2.1]\n",
            " [4.9 2.5 4.5 1.7]\n",
            " [7.3 2.9 6.3 1.8]\n",
            " [6.7 2.5 5.8 1.8]\n",
            " [7.2 3.6 6.1 2.5]\n",
            " [6.5 3.2 5.1 2. ]\n",
            " [6.4 2.7 5.3 1.9]\n",
            " [6.8 3.  5.5 2.1]\n",
            " [5.7 2.5 5.  2. ]\n",
            " [5.8 2.8 5.1 2.4]\n",
            " [6.4 3.2 5.3 2.3]\n",
            " [6.5 3.  5.5 1.8]\n",
            " [7.7 3.8 6.7 2.2]\n",
            " [7.7 2.6 6.9 2.3]\n",
            " [6.  2.2 5.  1.5]\n",
            " [6.9 3.2 5.7 2.3]\n",
            " [5.6 2.8 4.9 2. ]\n",
            " [7.7 2.8 6.7 2. ]\n",
            " [6.3 2.7 4.9 1.8]\n",
            " [6.7 3.3 5.7 2.1]\n",
            " [7.2 3.2 6.  1.8]\n",
            " [6.2 2.8 4.8 1.8]\n",
            " [6.1 3.  4.9 1.8]\n",
            " [6.4 2.8 5.6 2.1]\n",
            " [7.2 3.  5.8 1.6]\n",
            " [7.4 2.8 6.1 1.9]\n",
            " [7.9 3.8 6.4 2. ]\n",
            " [6.4 2.8 5.6 2.2]\n",
            " [6.3 2.8 5.1 1.5]\n",
            " [6.1 2.6 5.6 1.4]\n",
            " [7.7 3.  6.1 2.3]\n",
            " [6.3 3.4 5.6 2.4]\n",
            " [6.4 3.1 5.5 1.8]\n",
            " [6.  3.  4.8 1.8]\n",
            " [6.9 3.1 5.4 2.1]\n",
            " [6.7 3.1 5.6 2.4]\n",
            " [6.9 3.1 5.1 2.3]\n",
            " [5.8 2.7 5.1 1.9]\n",
            " [6.8 3.2 5.9 2.3]\n",
            " [6.7 3.3 5.7 2.5]\n",
            " [6.7 3.  5.2 2.3]\n",
            " [6.3 2.5 5.  1.9]\n",
            " [6.5 3.  5.2 2. ]\n",
            " [6.2 3.4 5.4 2.3]\n",
            " [5.9 3.  5.1 1.8]]\n"
          ]
        }
      ]
    },
    {
      "cell_type": "code",
      "source": [
        "print(y)"
      ],
      "metadata": {
        "colab": {
          "base_uri": "https://localhost:8080/"
        },
        "id": "HS4EXX2oRvrb",
        "outputId": "438bcbe4-7462-4152-edba-cc80fcba593f"
      },
      "execution_count": null,
      "outputs": [
        {
          "output_type": "stream",
          "name": "stdout",
          "text": [
            "[0 0 0 0 0 0 0 0 0 0 0 0 0 0 0 0 0 0 0 0 0 0 0 0 0 0 0 0 0 0 0 0 0 0 0 0 0\n",
            " 0 0 0 0 0 0 0 0 0 0 0 0 0 1 1 1 1 1 1 1 1 1 1 1 1 1 1 1 1 1 1 1 1 1 1 1 1\n",
            " 1 1 1 1 1 1 1 1 1 1 1 1 1 1 1 1 1 1 1 1 1 1 1 1 1 1 2 2 2 2 2 2 2 2 2 2 2\n",
            " 2 2 2 2 2 2 2 2 2 2 2 2 2 2 2 2 2 2 2 2 2 2 2 2 2 2 2 2 2 2 2 2 2 2 2 2 2\n",
            " 2 2]\n"
          ]
        }
      ]
    },
    {
      "cell_type": "code",
      "source": [
        "X = torch.tensor(X , dtype = torch.float32)\n",
        "y = torch.tensor(y , dtype = torch.float32)"
      ],
      "metadata": {
        "id": "nhgI3V5dR1TF"
      },
      "execution_count": null,
      "outputs": []
    },
    {
      "cell_type": "code",
      "source": [
        "X.shape[1]"
      ],
      "metadata": {
        "colab": {
          "base_uri": "https://localhost:8080/"
        },
        "id": "O4U8tPanSADM",
        "outputId": "e3d65e55-35a8-4804-8adc-49599cd51306"
      },
      "execution_count": null,
      "outputs": [
        {
          "output_type": "execute_result",
          "data": {
            "text/plain": [
              "4"
            ]
          },
          "metadata": {},
          "execution_count": 26
        }
      ]
    },
    {
      "cell_type": "code",
      "source": [
        "y.unique()"
      ],
      "metadata": {
        "colab": {
          "base_uri": "https://localhost:8080/"
        },
        "id": "y0ByeAKwSLSh",
        "outputId": "0fcf5c45-d2e6-4df3-e88a-bb117f1bc108"
      },
      "execution_count": null,
      "outputs": [
        {
          "output_type": "execute_result",
          "data": {
            "text/plain": [
              "tensor([0., 1., 2.])"
            ]
          },
          "metadata": {},
          "execution_count": 30
        }
      ]
    },
    {
      "cell_type": "markdown",
      "source": [
        "# Splitting into Training set and Test set"
      ],
      "metadata": {
        "id": "voIQiQ-9Vam5"
      }
    },
    {
      "cell_type": "code",
      "source": [
        "from sklearn.model_selection import train_test_split\n",
        "x_train , x_test , y_train , y_test = train_test_split(X , y , test_size = 0.2 , random_state = 42)"
      ],
      "metadata": {
        "id": "9U3pFtPyTObU"
      },
      "execution_count": null,
      "outputs": []
    },
    {
      "cell_type": "markdown",
      "source": [
        "# Model Defining"
      ],
      "metadata": {
        "id": "mHCeuwRePo9N"
      }
    },
    {
      "cell_type": "code",
      "source": [
        "input_size = X.shape[1]\n",
        "hidden_size = 16\n",
        "output_size = 3"
      ],
      "metadata": {
        "id": "Mj-BgXKASVV8"
      },
      "execution_count": null,
      "outputs": []
    },
    {
      "cell_type": "code",
      "source": [
        "class Model(nn.Module):\n",
        "  def __init__(self , input_size , hidden_size , output_size):\n",
        "    super(Model , self).__init__()\n",
        "\n",
        "    self.fc1 = nn.Linear(input_size , hidden_size)\n",
        "\n",
        "    self.relu = nn.ReLU()\n",
        "\n",
        "    self.fc2 = nn.Linear(hidden_size , output_size)\n",
        "\n",
        "  def forward(self , x):\n",
        "    x = self.fc1(x)\n",
        "    x = self.relu(x)\n",
        "    x = self.fc2(x)\n",
        "\n",
        "    return x"
      ],
      "metadata": {
        "id": "hgdEskJNMhoL"
      },
      "execution_count": null,
      "outputs": []
    },
    {
      "cell_type": "code",
      "source": [
        "model = Model(input_size , hidden_size , output_size)\n",
        "print(model)\n"
      ],
      "metadata": {
        "colab": {
          "base_uri": "https://localhost:8080/"
        },
        "id": "gID3uQGqNQmm",
        "outputId": "7266c71d-e4e4-42d0-b9ea-e13d30432f94"
      },
      "execution_count": null,
      "outputs": [
        {
          "output_type": "stream",
          "name": "stdout",
          "text": [
            "Model(\n",
            "  (fc1): Linear(in_features=4, out_features=16, bias=True)\n",
            "  (relu): ReLU()\n",
            "  (fc2): Linear(in_features=16, out_features=3, bias=True)\n",
            ")\n"
          ]
        }
      ]
    },
    {
      "cell_type": "markdown",
      "source": [
        "# Summary of Model"
      ],
      "metadata": {
        "id": "RF3nFflePs1a"
      }
    },
    {
      "cell_type": "code",
      "source": [
        "from torchsummary import summary\n",
        "summary(model , input_size = (150 , 4))"
      ],
      "metadata": {
        "colab": {
          "base_uri": "https://localhost:8080/"
        },
        "id": "2gjjHeF1Nzb_",
        "outputId": "e375ea13-36ba-4ffb-9ed2-106184acada5"
      },
      "execution_count": null,
      "outputs": [
        {
          "output_type": "stream",
          "name": "stdout",
          "text": [
            "----------------------------------------------------------------\n",
            "        Layer (type)               Output Shape         Param #\n",
            "================================================================\n",
            "            Linear-1              [-1, 150, 16]              80\n",
            "              ReLU-2              [-1, 150, 16]               0\n",
            "            Linear-3               [-1, 150, 3]              51\n",
            "================================================================\n",
            "Total params: 131\n",
            "Trainable params: 131\n",
            "Non-trainable params: 0\n",
            "----------------------------------------------------------------\n",
            "Input size (MB): 0.00\n",
            "Forward/backward pass size (MB): 0.04\n",
            "Params size (MB): 0.00\n",
            "Estimated Total Size (MB): 0.04\n",
            "----------------------------------------------------------------\n"
          ]
        }
      ]
    },
    {
      "cell_type": "markdown",
      "source": [
        "# Defining Loss and Optimizer"
      ],
      "metadata": {
        "id": "rbs-v2c5PxHb"
      }
    },
    {
      "cell_type": "code",
      "source": [
        "criterion = nn.CrossEntropyLoss()\n",
        "optimizer = optim.Adam(model.parameters() , lr = 0.001)"
      ],
      "metadata": {
        "id": "Oz1500EcOW6U"
      },
      "execution_count": null,
      "outputs": []
    },
    {
      "cell_type": "markdown",
      "source": [
        "# Training and Testing"
      ],
      "metadata": {
        "id": "7rjzgVaYP5t5"
      }
    },
    {
      "cell_type": "code",
      "source": [
        "epochs = 100\n",
        "train_losses = []\n",
        "test_losses = []\n",
        "\n",
        "for epoch in range(epochs):\n",
        "    model.train()\n",
        "    optimizer.zero_grad()\n",
        "\n",
        "    outputs = model(x_train)\n",
        "    loss = criterion(outputs, y_train.long())\n",
        "    loss.backward()\n",
        "    optimizer.step()\n",
        "\n",
        "    train_losses.append(loss.item())\n",
        "\n",
        "\n",
        "    model.eval()\n",
        "    with torch.no_grad():\n",
        "        test_outputs = model(x_test)\n",
        "        test_loss = criterion(test_outputs, y_test.long()).item()\n",
        "        test_losses.append(test_loss)\n",
        "\n",
        "    print(f\"Epoch [{epoch+1}/{epochs}], Train Loss: {loss.item():.4f}, Test Loss: {test_loss:.4f}\")\n"
      ],
      "metadata": {
        "colab": {
          "base_uri": "https://localhost:8080/"
        },
        "id": "t-ufw19pOuOf",
        "outputId": "befa5425-2f63-4952-e686-63df0df55b8b"
      },
      "execution_count": null,
      "outputs": [
        {
          "output_type": "stream",
          "name": "stdout",
          "text": [
            "Epoch [1/100], Train Loss: 0.1290, Test Loss: 0.1165\n",
            "Epoch [2/100], Train Loss: 0.1288, Test Loss: 0.1163\n",
            "Epoch [3/100], Train Loss: 0.1286, Test Loss: 0.1161\n",
            "Epoch [4/100], Train Loss: 0.1284, Test Loss: 0.1159\n",
            "Epoch [5/100], Train Loss: 0.1281, Test Loss: 0.1158\n",
            "Epoch [6/100], Train Loss: 0.1279, Test Loss: 0.1156\n",
            "Epoch [7/100], Train Loss: 0.1277, Test Loss: 0.1154\n",
            "Epoch [8/100], Train Loss: 0.1275, Test Loss: 0.1152\n",
            "Epoch [9/100], Train Loss: 0.1272, Test Loss: 0.1150\n",
            "Epoch [10/100], Train Loss: 0.1270, Test Loss: 0.1148\n",
            "Epoch [11/100], Train Loss: 0.1268, Test Loss: 0.1147\n",
            "Epoch [12/100], Train Loss: 0.1266, Test Loss: 0.1145\n",
            "Epoch [13/100], Train Loss: 0.1264, Test Loss: 0.1143\n",
            "Epoch [14/100], Train Loss: 0.1262, Test Loss: 0.1141\n",
            "Epoch [15/100], Train Loss: 0.1259, Test Loss: 0.1139\n",
            "Epoch [16/100], Train Loss: 0.1257, Test Loss: 0.1138\n",
            "Epoch [17/100], Train Loss: 0.1255, Test Loss: 0.1136\n",
            "Epoch [18/100], Train Loss: 0.1253, Test Loss: 0.1134\n",
            "Epoch [19/100], Train Loss: 0.1251, Test Loss: 0.1132\n",
            "Epoch [20/100], Train Loss: 0.1249, Test Loss: 0.1131\n",
            "Epoch [21/100], Train Loss: 0.1247, Test Loss: 0.1129\n",
            "Epoch [22/100], Train Loss: 0.1244, Test Loss: 0.1127\n",
            "Epoch [23/100], Train Loss: 0.1242, Test Loss: 0.1125\n",
            "Epoch [24/100], Train Loss: 0.1240, Test Loss: 0.1124\n",
            "Epoch [25/100], Train Loss: 0.1238, Test Loss: 0.1122\n",
            "Epoch [26/100], Train Loss: 0.1236, Test Loss: 0.1120\n",
            "Epoch [27/100], Train Loss: 0.1234, Test Loss: 0.1118\n",
            "Epoch [28/100], Train Loss: 0.1232, Test Loss: 0.1117\n",
            "Epoch [29/100], Train Loss: 0.1230, Test Loss: 0.1115\n",
            "Epoch [30/100], Train Loss: 0.1228, Test Loss: 0.1113\n",
            "Epoch [31/100], Train Loss: 0.1226, Test Loss: 0.1112\n",
            "Epoch [32/100], Train Loss: 0.1224, Test Loss: 0.1110\n",
            "Epoch [33/100], Train Loss: 0.1222, Test Loss: 0.1108\n",
            "Epoch [34/100], Train Loss: 0.1220, Test Loss: 0.1106\n",
            "Epoch [35/100], Train Loss: 0.1218, Test Loss: 0.1105\n",
            "Epoch [36/100], Train Loss: 0.1216, Test Loss: 0.1103\n",
            "Epoch [37/100], Train Loss: 0.1214, Test Loss: 0.1102\n",
            "Epoch [38/100], Train Loss: 0.1212, Test Loss: 0.1100\n",
            "Epoch [39/100], Train Loss: 0.1210, Test Loss: 0.1098\n",
            "Epoch [40/100], Train Loss: 0.1208, Test Loss: 0.1097\n",
            "Epoch [41/100], Train Loss: 0.1206, Test Loss: 0.1095\n",
            "Epoch [42/100], Train Loss: 0.1204, Test Loss: 0.1093\n",
            "Epoch [43/100], Train Loss: 0.1202, Test Loss: 0.1092\n",
            "Epoch [44/100], Train Loss: 0.1200, Test Loss: 0.1090\n",
            "Epoch [45/100], Train Loss: 0.1198, Test Loss: 0.1089\n",
            "Epoch [46/100], Train Loss: 0.1196, Test Loss: 0.1087\n",
            "Epoch [47/100], Train Loss: 0.1194, Test Loss: 0.1085\n",
            "Epoch [48/100], Train Loss: 0.1192, Test Loss: 0.1084\n",
            "Epoch [49/100], Train Loss: 0.1191, Test Loss: 0.1082\n",
            "Epoch [50/100], Train Loss: 0.1189, Test Loss: 0.1081\n",
            "Epoch [51/100], Train Loss: 0.1187, Test Loss: 0.1079\n",
            "Epoch [52/100], Train Loss: 0.1185, Test Loss: 0.1077\n",
            "Epoch [53/100], Train Loss: 0.1183, Test Loss: 0.1076\n",
            "Epoch [54/100], Train Loss: 0.1181, Test Loss: 0.1074\n",
            "Epoch [55/100], Train Loss: 0.1179, Test Loss: 0.1073\n",
            "Epoch [56/100], Train Loss: 0.1177, Test Loss: 0.1071\n",
            "Epoch [57/100], Train Loss: 0.1176, Test Loss: 0.1070\n",
            "Epoch [58/100], Train Loss: 0.1174, Test Loss: 0.1068\n",
            "Epoch [59/100], Train Loss: 0.1172, Test Loss: 0.1067\n",
            "Epoch [60/100], Train Loss: 0.1170, Test Loss: 0.1065\n",
            "Epoch [61/100], Train Loss: 0.1168, Test Loss: 0.1064\n",
            "Epoch [62/100], Train Loss: 0.1166, Test Loss: 0.1062\n",
            "Epoch [63/100], Train Loss: 0.1165, Test Loss: 0.1061\n",
            "Epoch [64/100], Train Loss: 0.1163, Test Loss: 0.1059\n",
            "Epoch [65/100], Train Loss: 0.1161, Test Loss: 0.1058\n",
            "Epoch [66/100], Train Loss: 0.1159, Test Loss: 0.1056\n",
            "Epoch [67/100], Train Loss: 0.1157, Test Loss: 0.1055\n",
            "Epoch [68/100], Train Loss: 0.1156, Test Loss: 0.1053\n",
            "Epoch [69/100], Train Loss: 0.1154, Test Loss: 0.1052\n",
            "Epoch [70/100], Train Loss: 0.1152, Test Loss: 0.1050\n",
            "Epoch [71/100], Train Loss: 0.1150, Test Loss: 0.1049\n",
            "Epoch [72/100], Train Loss: 0.1149, Test Loss: 0.1047\n",
            "Epoch [73/100], Train Loss: 0.1147, Test Loss: 0.1046\n",
            "Epoch [74/100], Train Loss: 0.1145, Test Loss: 0.1044\n",
            "Epoch [75/100], Train Loss: 0.1143, Test Loss: 0.1043\n",
            "Epoch [76/100], Train Loss: 0.1142, Test Loss: 0.1042\n",
            "Epoch [77/100], Train Loss: 0.1140, Test Loss: 0.1040\n",
            "Epoch [78/100], Train Loss: 0.1138, Test Loss: 0.1039\n",
            "Epoch [79/100], Train Loss: 0.1137, Test Loss: 0.1037\n",
            "Epoch [80/100], Train Loss: 0.1135, Test Loss: 0.1036\n",
            "Epoch [81/100], Train Loss: 0.1133, Test Loss: 0.1034\n",
            "Epoch [82/100], Train Loss: 0.1132, Test Loss: 0.1033\n",
            "Epoch [83/100], Train Loss: 0.1130, Test Loss: 0.1032\n",
            "Epoch [84/100], Train Loss: 0.1128, Test Loss: 0.1030\n",
            "Epoch [85/100], Train Loss: 0.1126, Test Loss: 0.1029\n",
            "Epoch [86/100], Train Loss: 0.1125, Test Loss: 0.1027\n",
            "Epoch [87/100], Train Loss: 0.1123, Test Loss: 0.1026\n",
            "Epoch [88/100], Train Loss: 0.1122, Test Loss: 0.1025\n",
            "Epoch [89/100], Train Loss: 0.1120, Test Loss: 0.1023\n",
            "Epoch [90/100], Train Loss: 0.1118, Test Loss: 0.1022\n",
            "Epoch [91/100], Train Loss: 0.1117, Test Loss: 0.1021\n",
            "Epoch [92/100], Train Loss: 0.1115, Test Loss: 0.1019\n",
            "Epoch [93/100], Train Loss: 0.1113, Test Loss: 0.1018\n",
            "Epoch [94/100], Train Loss: 0.1112, Test Loss: 0.1017\n",
            "Epoch [95/100], Train Loss: 0.1110, Test Loss: 0.1015\n",
            "Epoch [96/100], Train Loss: 0.1109, Test Loss: 0.1014\n",
            "Epoch [97/100], Train Loss: 0.1107, Test Loss: 0.1013\n",
            "Epoch [98/100], Train Loss: 0.1105, Test Loss: 0.1011\n",
            "Epoch [99/100], Train Loss: 0.1104, Test Loss: 0.1010\n",
            "Epoch [100/100], Train Loss: 0.1102, Test Loss: 0.1009\n"
          ]
        }
      ]
    },
    {
      "cell_type": "code",
      "source": [
        "import matplotlib.pyplot as plt\n",
        "\n",
        "plt.plot(train_losses, label=\"Train Loss\")\n",
        "plt.plot(test_losses, label=\"Test Loss\")\n",
        "plt.xlabel(\"Epoch\")\n",
        "plt.ylabel(\"Loss\")\n",
        "plt.title(\"Train vs Test Loss\")\n",
        "plt.legend()\n",
        "plt.grid(True)\n",
        "plt.show()\n"
      ],
      "metadata": {
        "colab": {
          "base_uri": "https://localhost:8080/",
          "height": 472
        },
        "id": "7vlhUC2zV88a",
        "outputId": "8cb5b4d0-fe23-42ae-d3f9-75be9ce3fd12"
      },
      "execution_count": null,
      "outputs": [
        {
          "output_type": "display_data",
          "data": {
            "text/plain": [
              "<Figure size 640x480 with 1 Axes>"
            ],
            "image/png": "[encoded data removed]"
          },
          "metadata": {}
        }
      ]
    }
  ]
}